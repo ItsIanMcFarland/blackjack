{
 "cells": [
  {
   "cell_type": "code",
   "execution_count": null,
   "id": "ee2640f7-e4af-4533-9bf6-5b772f1a8872",
   "metadata": {},
   "outputs": [
    {
     "name": "stdout",
     "output_type": "stream",
     "text": [
      "Welcome to Blackjack!\n",
      "\n",
      "Your hand: [4, 3] | Score: 7\n",
      "Dealer's hand: [6, ?]\n"
     ]
    },
    {
     "name": "stdin",
     "output_type": "stream",
     "text": [
      "Type 'hit' to draw another card or 'stand' to hold:  hit\n"
     ]
    },
    {
     "name": "stdout",
     "output_type": "stream",
     "text": [
      "\n",
      "Your hand: [4, 3, 9] | Score: 16\n",
      "Dealer's hand: [6, ?]\n"
     ]
    },
    {
     "name": "stdin",
     "output_type": "stream",
     "text": [
      "Type 'hit' to draw another card or 'stand' to hold:  stand\n"
     ]
    },
    {
     "name": "stdout",
     "output_type": "stream",
     "text": [
      "\n",
      "Your hand: [4, 3, 9] | Score: 16\n",
      "Dealer's hand: [6, 11] | Score: 17\n",
      "Dealer wins.\n"
     ]
    },
    {
     "name": "stdin",
     "output_type": "stream",
     "text": [
      "\n",
      "Play another round? (yes/no):  yes\n"
     ]
    },
    {
     "name": "stdout",
     "output_type": "stream",
     "text": [
      "\n",
      "Your hand: [8, 6] | Score: 14\n",
      "Dealer's hand: [7, ?]\n"
     ]
    }
   ],
   "source": [
    "import random\n",
    "\n",
    "def deal_card():\n",
    "    \"\"\"Returns a random card from the deck.\"\"\"\n",
    "    cards = [2, 3, 4, 5, 6, 7, 8, 9, 10, 10, 10, 10, 11]  # 10 = J, Q, K; 11 = Ace\n",
    "    return random.choice(cards)\n",
    "\n",
    "def calculate_score(hand):\n",
    "    \"\"\"Calculates the current score of a hand.\"\"\"\n",
    "    score = sum(hand)\n",
    "    while score > 21 and 11 in hand:\n",
    "        hand[hand.index(11)] = 1\n",
    "        score = sum(hand)\n",
    "    return score\n",
    "\n",
    "def display_hands(player, dealer, show_dealer_card=False):\n",
    "    print(f\"\\nYour hand: {player} | Score: {calculate_score(player)}\")\n",
    "    if show_dealer_card:\n",
    "        print(f\"Dealer's hand: {dealer} | Score: {calculate_score(dealer)}\")\n",
    "    else:\n",
    "        print(f\"Dealer's hand: [{dealer[0]}, ?]\")\n",
    "\n",
    "def play_round():\n",
    "    player_hand = [deal_card(), deal_card()]\n",
    "    dealer_hand = [deal_card(), deal_card()]\n",
    "    game_over = False\n",
    "\n",
    "    while not game_over:\n",
    "        display_hands(player_hand, dealer_hand)\n",
    "        if calculate_score(player_hand) == 21:\n",
    "            print(\"Blackjack! You win!\")\n",
    "            return\n",
    "        elif calculate_score(player_hand) > 21:\n",
    "            print(\"You bust! Dealer wins.\")\n",
    "            return\n",
    "        move = input(\"Type 'hit' to draw another card or 'stand' to hold: \").lower()\n",
    "        if move == \"hit\":\n",
    "            player_hand.append(deal_card())\n",
    "        elif move == \"stand\":\n",
    "            game_over = True\n",
    "        else:\n",
    "            print(\"Invalid input.\")\n",
    "\n",
    "    # Dealer plays\n",
    "    while calculate_score(dealer_hand) < 17:\n",
    "        dealer_hand.append(deal_card())\n",
    "\n",
    "    display_hands(player_hand, dealer_hand, show_dealer_card=True)\n",
    "\n",
    "    player_score = calculate_score(player_hand)\n",
    "    dealer_score = calculate_score(dealer_hand)\n",
    "\n",
    "    if dealer_score > 21:\n",
    "        print(\"Dealer busts! You win.\")\n",
    "    elif dealer_score == player_score:\n",
    "        print(\"It's a draw!\")\n",
    "    elif player_score > dealer_score:\n",
    "        print(\"You win!\")\n",
    "    else:\n",
    "        print(\"Dealer wins.\")\n",
    "\n",
    "def blackjack():\n",
    "    print(\"Welcome to Blackjack!\")\n",
    "    while True:\n",
    "        play_round()\n",
    "        again = input(\"\\nPlay another round? (yes/no): \").lower()\n",
    "        if again != 'yes':\n",
    "            print(\"Thanks for playing!\")\n",
    "            break\n",
    "\n",
    "if __name__ == \"__main__\":\n",
    "    blackjack()\n"
   ]
 
