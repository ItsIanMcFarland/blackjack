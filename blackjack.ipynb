import random

def deal_card():
    """Returns a random card from the deck."""
    cards = [2, 3, 4, 5, 6, 7, 8, 9, 10, 10, 10, 10, 11]  # 10 = J, Q, K; 11 = Ace
    return random.choice(cards)

def calculate_score(hand):
    """Calculates the current score of a hand."""
    score = sum(hand)
    while score > 21 and 11 in hand:
        hand[hand.index(11)] = 1
        score = sum(hand)
    return score

def display_hands(player, dealer, show_dealer_card=False):
    print(f"\nYour hand: {player} | Score: {calculate_score(player)}")
    if show_dealer_card:
        print(f"Dealer's hand: {dealer} | Score: {calculate_score(dealer)}")
    else:
        print(f"Dealer's hand: [{dealer[0]}, ?]")

def play_round():
    player_hand = [deal_card(), deal_card()]
    dealer_hand = [deal_card(), deal_card()]
    game_over = False

    while not game_over:
        display_hands(player_hand, dealer_hand)
        if calculate_score(player_hand) == 21:
            print("Blackjack! You win!")
            return
        elif calculate_score(player_hand) > 21:
            print("You bust! Dealer wins.")
            return
        move = input("Type 'hit' to draw another card or 'stand' to hold: ").lower()
        if move == "hit":
            player_hand.append(deal_card())
        elif move == "stand":
            game_over = True
        else:
            print("Invalid input.")

    # Dealer plays
    while calculate_score(dealer_hand) < 17:
        dealer_hand.append(deal_card())

    display_hands(player_hand, dealer_hand, show_dealer_card=True)

    player_score = calculate_score(player_hand)
    dealer_score = calculate_score(dealer_hand)

    if dealer_score > 21:
        print("Dealer busts! You win.")
    elif dealer_score == player_score:
        print("It's a draw!")
    elif player_score > dealer_score:
        print("You win!")
    else:
        print("Dealer wins.")

def blackjack():
    print("Welcome to Blackjack!")
    while True:
        play_round()
        again = input("\nPlay another round? (yes/no): ").lower()
        if again != 'yes':
            print("Thanks for playing!")
            break

if __name__ == "__main__":
    blackjack()
